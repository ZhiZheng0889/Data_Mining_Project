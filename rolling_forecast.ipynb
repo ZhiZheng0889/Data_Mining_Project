{
 "cells": [
  {
   "cell_type": "code",
   "execution_count": 16,
   "id": "72d82fcb-1a60-4ee5-8e2b-4208ca41cf07",
   "metadata": {
    "tags": []
   },
   "outputs": [
    {
     "name": "stderr",
     "output_type": "stream",
     "text": [
      "C:\\Users\\zhizh\\AppData\\Local\\Temp\\ipykernel_11868\\1731619659.py:8: SettingWithCopyWarning: \n",
      "A value is trying to be set on a copy of a slice from a DataFrame.\n",
      "Try using .loc[row_indexer,col_indexer] = value instead\n",
      "\n",
      "See the caveats in the documentation: https://pandas.pydata.org/pandas-docs/stable/user_guide/indexing.html#returning-a-view-versus-a-copy\n",
      "  gold_data['date'] = pd.to_datetime(gold_data['date'])\n"
     ]
    },
    {
     "data": {
      "text/plain": [
       "(Timestamp('2000-08-31 00:00:00'),\n",
       " Timestamp('2018-07-31 00:00:00'),\n",
       " Timestamp('2018-09-30 00:00:00'),\n",
       " Timestamp('2023-07-31 00:00:00'))"
      ]
     },
     "execution_count": 16,
     "metadata": {},
     "output_type": "execute_result"
    }
   ],
   "source": [
    "import pandas as pd\n",
    "\n",
    "# Reload the dataset\n",
    "commodities_data = pd.read_csv('Dataset/all_commodities_data.csv')\n",
    "\n",
    "# Ensure the date column is in datetime format and set as the index\n",
    "gold_data = commodities_data[commodities_data['commodity'] == 'Gold']\n",
    "gold_data['date'] = pd.to_datetime(gold_data['date'])\n",
    "gold_data.set_index('date', inplace=True)\n",
    "\n",
    "# Step 1: Data Transformation\n",
    "# Resample to get monthly average prices\n",
    "gold_data_monthly = gold_data['close'].resample('M').mean()\n",
    "\n",
    "# Step 2: Rolling Forecast Setup\n",
    "# Using the latest 60 months for validation and forecasting 3 months ahead\n",
    "training_end = len(gold_data_monthly) - 63\n",
    "validation_start = training_end + 1\n",
    "validation_end = validation_start + 59  # 59 to include the starting point\n",
    "\n",
    "train_data = gold_data_monthly[:training_end]\n",
    "validation_data = gold_data_monthly[validation_start:validation_end]\n",
    "\n",
    "# Displaying the start and end of training and validation data for verification\n",
    "train_data.index[0], train_data.index[-1], validation_data.index[0], validation_data.index[-1]\n"
   ]
  },
  {
   "cell_type": "code",
   "execution_count": 21,
   "id": "741efc33-7fed-4c79-a811-a1fb46cdfb04",
   "metadata": {
    "tags": []
   },
   "outputs": [
    {
     "data": {
      "text/plain": [
       "6138.248619233464"
      ]
     },
     "execution_count": 21,
     "metadata": {},
     "output_type": "execute_result"
    }
   ],
   "source": [
    "from statsmodels.tsa.arima.model import ARIMA\n",
    "from sklearn.metrics import mean_squared_error\n",
    "\n",
    "# Separate the last 60 months for validation\n",
    "train = gold_data_monthly[:-60]\n",
    "validation = gold_data_monthly[-60:]\n",
    "\n",
    "history = [x for x in train]\n",
    "predictions_arima = []\n",
    "\n",
    "# Rolling forecast\n",
    "for t in range(0, 60, 3):  # Step size of 3 months\n",
    "    model = ARIMA(history, order=(5,1,0))\n",
    "    model_fit = model.fit()\n",
    "    output = model_fit.forecast(steps=3)\n",
    "    predictions_arima.extend(output)\n",
    "    history.extend(validation[t:t+3])\n",
    "\n",
    "# Compute the MSE for ARIMA on the validation set\n",
    "mse_arima = mean_squared_error(validation[:len(predictions_arima)], predictions_arima)\n",
    "\n",
    "mse_arima\n",
    "\n"
   ]
  },
  {
   "cell_type": "code",
   "execution_count": 22,
   "id": "7c632bb2-776a-44f7-b692-1539a1371915",
   "metadata": {
    "tags": []
   },
   "outputs": [
    {
     "data": {
      "text/plain": [
       "6208.131122531319"
      ]
     },
     "execution_count": 22,
     "metadata": {},
     "output_type": "execute_result"
    }
   ],
   "source": [
    "from statsmodels.tsa.statespace.sarimax import SARIMAX\n",
    "\n",
    "history = [x for x in train]\n",
    "predictions_sarima = []\n",
    "\n",
    "# Rolling forecast for SARIMA\n",
    "for t in range(0, 60, 3):\n",
    "    model = SARIMAX(history, order=(5,1,0), seasonal_order=(1,1,1,12))\n",
    "    model_fit = model.fit(disp=0)\n",
    "    output = model_fit.forecast(steps=3)\n",
    "    predictions_sarima.extend(output)\n",
    "    history.extend(validation[t:t+3])\n",
    "\n",
    "# Compute the MSE for SARIMA on the validation set\n",
    "mse_sarima = mean_squared_error(validation[:len(predictions_sarima)], predictions_sarima)\n",
    "\n",
    "mse_sarima\n"
   ]
  },
  {
   "cell_type": "code",
   "execution_count": 52,
   "id": "0c15a19a-af8c-4a03-913c-ea4ed7b82f03",
   "metadata": {
    "tags": []
   },
   "outputs": [
    {
     "name": "stderr",
     "output_type": "stream",
     "text": [
      "C:\\Users\\zhizh\\AppData\\Local\\Temp\\ipykernel_11868\\2319752767.py:17: SettingWithCopyWarning: \n",
      "A value is trying to be set on a copy of a slice from a DataFrame.\n",
      "Try using .loc[row_indexer,col_indexer] = value instead\n",
      "\n",
      "See the caveats in the documentation: https://pandas.pydata.org/pandas-docs/stable/user_guide/indexing.html#returning-a-view-versus-a-copy\n",
      "  gold_data['date'] = pd.to_datetime(gold_data['date'])\n"
     ]
    },
    {
     "name": "stdout",
     "output_type": "stream",
     "text": [
      "1/1 [==============================] - 0s 114ms/step\n",
      "MSE: 1215.6824972481945\n"
     ]
    },
    {
     "name": "stderr",
     "output_type": "stream",
     "text": [
      "C:\\Users\\zhizh\\AppData\\Local\\Temp\\ipykernel_11868\\2319752767.py:62: FutureWarning: Series.__getitem__ treating keys as positions is deprecated. In a future version, integer keys will always be treated as labels (consistent with DataFrame behavior). To access a value by position, use `ser.iloc[pos]`\n",
      "  last_val = gold_data_monthly[train_size - 1]  # Get the last value before test data\n"
     ]
    },
    {
     "data": {
      "text/plain": [
       "35.0452639547808"
      ]
     },
     "execution_count": 52,
     "metadata": {},
     "output_type": "execute_result"
    }
   ],
   "source": [
    "import pandas as pd\n",
    "from sklearn.preprocessing import MinMaxScaler\n",
    "from keras.models import Sequential\n",
    "from keras.layers import Dense, LSTM\n",
    "from sklearn.metrics import mean_squared_error\n",
    "import numpy as np\n",
    "\n",
    "import tensorflow as tf\n",
    "np.random.seed(42)\n",
    "tf.random.set_seed(42)\n",
    "\n",
    "# Load the dataset\n",
    "commodities_data = pd.read_csv('Dataset/all_commodities_data.csv')\n",
    "\n",
    "# Preprocess the data\n",
    "gold_data = commodities_data[commodities_data['commodity'] == 'Gold']\n",
    "gold_data['date'] = pd.to_datetime(gold_data['date'])\n",
    "gold_data.set_index('date', inplace=True)\n",
    "\n",
    "# Resample to get monthly average prices\n",
    "gold_data_monthly = gold_data['close'].resample('M').mean()\n",
    "\n",
    "# Apply first-order differencing\n",
    "gold_data_monthly_diff = gold_data_monthly.diff().dropna()\n",
    "\n",
    "# Split the data into training and testing sets\n",
    "train_size = int(len(gold_data_monthly_diff) - 3)\n",
    "train, test = gold_data_monthly_diff[0:train_size], gold_data_monthly_diff[train_size:]\n",
    "\n",
    "# Reshape and scale the data\n",
    "scaler = MinMaxScaler()\n",
    "train_scaled = scaler.fit_transform(train.values.reshape(-1, 1))\n",
    "test_scaled = scaler.transform(test.values.reshape(-1, 1))\n",
    "\n",
    "# Create the LSTM dataset\n",
    "X_train, y_train = train_scaled[:-1], train_scaled[1:]\n",
    "X_test, y_test = test_scaled[:-1], test_scaled[1:]\n",
    "\n",
    "# Since we need 3 predictions, we will adjust our X_test to include the necessary lags\n",
    "X_test = np.append(X_test, np.zeros((1,1)), axis=0)\n",
    "\n",
    "# Reshape data for LSTM [samples, timesteps, features]\n",
    "X_train, X_test = X_train.reshape(X_train.shape[0], 1, X_train.shape[1]), X_test.reshape(X_test.shape[0], 1, X_test.shape[1])\n",
    "\n",
    "# Define the LSTM model\n",
    "model = Sequential()\n",
    "model.add(LSTM(50, activation='relu', input_shape=(X_train.shape[1], X_train.shape[2])))\n",
    "model.add(Dense(1))\n",
    "model.compile(optimizer='adam', loss='mse')\n",
    "\n",
    "# Train the model\n",
    "model.fit(X_train, y_train, epochs=200, verbose=0)\n",
    "\n",
    "# Make predictions\n",
    "predictions = model.predict(X_test)\n",
    "\n",
    "# Invert the scaling\n",
    "predictions_inverted = scaler.inverse_transform(predictions)\n",
    "\n",
    "# Revert the differencing\n",
    "final_predictions = []\n",
    "last_val = gold_data_monthly[train_size - 1]  # Get the last value before test data\n",
    "for yhat in predictions_inverted:\n",
    "    inverted = yhat + last_val\n",
    "    final_predictions.append(inverted[0])\n",
    "    last_val = inverted\n",
    "\n",
    "# Calculate MSE\n",
    "mse_ltsm = mean_squared_error(gold_data_monthly[train_size+1:], final_predictions)\n",
    "print(f'MSE: {mse}')\n",
    "\n",
    "# Calculating RMSE from the previously computed MSE\n",
    "rmse = np.sqrt(mse_ltsm)\n",
    "rmse"
   ]
  },
  {
   "cell_type": "code",
   "execution_count": 53,
   "id": "bbb6cec9-5e32-491b-9b6c-cf681b15ea63",
   "metadata": {
    "tags": []
   },
   "outputs": [
    {
     "name": "stderr",
     "output_type": "stream",
     "text": [
      "C:\\Users\\zhizh\\AppData\\Local\\Temp\\ipykernel_11868\\1308756142.py:4: SettingWithCopyWarning: \n",
      "A value is trying to be set on a copy of a slice from a DataFrame.\n",
      "Try using .loc[row_indexer,col_indexer] = value instead\n",
      "\n",
      "See the caveats in the documentation: https://pandas.pydata.org/pandas-docs/stable/user_guide/indexing.html#returning-a-view-versus-a-copy\n",
      "  gold_data['date'] = pd.to_datetime(gold_data['date'])\n"
     ]
    },
    {
     "data": {
      "text/plain": [
       "(65.69543675433347, 84.85923841704879)"
      ]
     },
     "execution_count": 53,
     "metadata": {},
     "output_type": "execute_result"
    }
   ],
   "source": [
    "# Load and preprocess the data\n",
    "commodities_data = pd.read_csv('Dataset/all_commodities_data.csv')\n",
    "gold_data = commodities_data[commodities_data['commodity'] == 'Gold']\n",
    "gold_data['date'] = pd.to_datetime(gold_data['date'])\n",
    "gold_data.set_index('date', inplace=True)\n",
    "gold_data_monthly = gold_data['close'].resample('M').mean()\n",
    "\n",
    "# Split the data into training and testing sets\n",
    "train_size = int(len(gold_data_monthly) - 3)\n",
    "train, test = gold_data_monthly[0:train_size], gold_data_monthly[train_size:]\n",
    "\n",
    "# Fit ARIMA and SARIMA models and compute RMSE\n",
    "\n",
    "# ARIMA\n",
    "arima_model = ARIMA(train, order=(5,1,0))\n",
    "arima_result = arima_model.fit()\n",
    "arima_forecast = arima_result.forecast(steps=3)\n",
    "\n",
    "# SARIMA\n",
    "sarima_model = SARIMAX(train, order=(5,1,0), seasonal_order=(1,1,1,12))\n",
    "sarima_result = sarima_model.fit()\n",
    "sarima_forecast = sarima_result.forecast(steps=3)\n",
    "\n",
    "from sklearn.metrics import mean_squared_error\n",
    "\n",
    "# Compute RMSE for ARIMA and SARIMA models\n",
    "rmse_arima = mean_squared_error(test, arima_forecast, squared=False)\n",
    "rmse_sarima = mean_squared_error(test, sarima_forecast, squared=False)\n",
    "\n",
    "rmse_arima, rmse_sarima\n",
    "\n",
    "\n"
   ]
  },
  {
   "cell_type": "code",
   "execution_count": 67,
   "id": "e6b2ce31-ec5a-4796-b7a7-d602889563dc",
   "metadata": {
    "tags": []
   },
   "outputs": [
    {
     "data": {
      "image/png": "[encoded data removed]",
      "text/plain": [
       "<Figure size 1000x600 with 1 Axes>"
      ]
     },
     "metadata": {},
     "output_type": "display_data"
    }
   ],
   "source": [
    "# Adjust the dates array to match the size of the forecast array\n",
    "forecast_dates = pd.date_range(start=dates[-1], periods=len(forecast) + 1)[1:]\n",
    "\n",
    "# Create the fan chart\n",
    "fig, ax = plt.subplots(figsize=(10, 6))\n",
    "ax.plot(dates, actual, 'k', label='Actual')\n",
    "ax.plot(forecast_dates, forecast, 'r', label='Forecast')\n",
    "for i, interval in enumerate(intervals):\n",
    "    ax.fill_between(forecast_dates, forecast - interval, forecast + interval, color='red', alpha=0.3/(i+1))\n",
    "\n",
    "ax.set_title('Gold Price Forecast with Prediction Intervals')\n",
    "ax.set_xlabel('Date')\n",
    "ax.set_ylabel('Price')\n",
    "ax.legend()\n",
    "plt.tight_layout()\n",
    "plt.show()\n"
   ]
  },
  {
   "cell_type": "code",
   "execution_count": null,
   "id": "df11379e-1244-465d-8bc0-fd6f4ef00d07",
   "metadata": {},
   "outputs": [],
   "source": []
  }
 ],
 "metadata": {
  "kernelspec": {
   "display_name": "Python 3 (ipykernel)",
   "language": "python",
   "name": "python3"
  },
  "language_info": {
   "codemirror_mode": {
    "name": "ipython",
    "version": 3
   },
   "file_extension": ".py",
   "mimetype": "text/x-python",
   "name": "python",
   "nbconvert_exporter": "python",
   "pygments_lexer": "ipython3",
   "version": "3.11.5"
  }
 },
 "nbformat": 4,
 "nbformat_minor": 5
}
